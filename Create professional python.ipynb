{
 "cells": [
  {
   "cell_type": "code",
   "execution_count": 1,
   "id": "59b4f2f1-8254-45a7-9f4e-97028a4197c1",
   "metadata": {
    "tags": []
   },
   "outputs": [],
   "source": [
    "%load_ext pycodestyle_magic\n",
    "# If You do not know what this is, check In Part 3 of this notebook, at the very end"
   ]
  },
  {
   "cell_type": "code",
   "execution_count": 2,
   "id": "a809aac5-06e5-4b6d-85cd-06aa83a3a9a3",
   "metadata": {},
   "outputs": [],
   "source": [
    "%flake8_on\n",
    "# If You do not know what this is, check In Part 3 of this notebook, at the very end"
   ]
  },
  {
   "cell_type": "markdown",
   "id": "04308711-fd71-4a06-925a-81ab0ce5489c",
   "metadata": {
    "tags": []
   },
   "source": [
    "# Create professional python\n",
    "\n",
    "*Following the conference By Eric Dasse and Dimitri Merejkowski*\n",
    "\n",
    "This Notebook contains some samples of code. They are used to illustrate my blog article that summarizes the conferences I attended at the (very great) Pycon Fr 2023, in Bordeaux, France."
   ]
  },
  {
   "cell_type": "markdown",
   "id": "eee1fe7c-def6-4a8c-b07c-2a15616697c7",
   "metadata": {},
   "source": [
    "## Part 1: The dangers of tweaking\n",
    "* *After following the conference by Eric Dasse*\n",
    "\n",
    "### The Zen of python"
   ]
  },
  {
   "cell_type": "code",
   "execution_count": 3,
   "id": "307acd1d-fdf4-4396-afca-8623c026f571",
   "metadata": {},
   "outputs": [
    {
     "name": "stdout",
     "output_type": "stream",
     "text": [
      "The Zen of Python, by Tim Peters\n",
      "\n",
      "Beautiful is better than ugly.\n",
      "Explicit is better than implicit.\n",
      "Simple is better than complex.\n",
      "Complex is better than complicated.\n",
      "Flat is better than nested.\n",
      "Sparse is better than dense.\n",
      "Readability counts.\n",
      "Special cases aren't special enough to break the rules.\n",
      "Although practicality beats purity.\n",
      "Errors should never pass silently.\n",
      "Unless explicitly silenced.\n",
      "In the face of ambiguity, refuse the temptation to guess.\n",
      "There should be one-- and preferably only one --obvious way to do it.\n",
      "Although that way may not be obvious at first unless you're Dutch.\n",
      "Now is better than never.\n",
      "Although never is often better than *right* now.\n",
      "If the implementation is hard to explain, it's a bad idea.\n",
      "If the implementation is easy to explain, it may be a good idea.\n",
      "Namespaces are one honking great idea -- let's do more of those!\n"
     ]
    }
   ],
   "source": [
    "\"\"\" import the zen of python \"\"\"\n",
    "import this"
   ]
  },
  {
   "cell_type": "markdown",
   "id": "d4111485-4641-4e5e-8047-d9bcef26da72",
   "metadata": {},
   "source": [
    "#### Beautiful is better than ugly"
   ]
  },
  {
   "cell_type": "code",
   "execution_count": 4,
   "id": "1d6834e5-1ea1-4f1f-9e82-f3acbb77e0dd",
   "metadata": {},
   "outputs": [],
   "source": [
    "\"\"\" UGLY (and also implicit) \"\"\"\n",
    "i = \"I\"\n",
    "j = \"loved\"\n",
    "k = \"Pycon Fr\"\n",
    "y = 2023"
   ]
  },
  {
   "cell_type": "code",
   "execution_count": 5,
   "id": "2e3908a5-4f00-4440-818b-4e7dec3f2f84",
   "metadata": {},
   "outputs": [
    {
     "name": "stdout",
     "output_type": "stream",
     "text": [
      "I loved Pycon Fr 2023!\n"
     ]
    }
   ],
   "source": [
    "x = i + \" \" + j + \" \" + k + \" \" + str(y) + \"!\"\n",
    "print(x)"
   ]
  },
  {
   "cell_type": "code",
   "execution_count": 6,
   "id": "a513c0dc-c3ca-455f-baab-fa1798ef6f43",
   "metadata": {},
   "outputs": [],
   "source": [
    "\"\"\" BEAUTIFUL (and also explicit) \"\"\"\n",
    "pronoun = \"I\"\n",
    "verb = \"loved\"\n",
    "complement = \"Pycon Fr\"\n",
    "year = 2023"
   ]
  },
  {
   "cell_type": "code",
   "execution_count": 7,
   "id": "3fc4ce88-3dd1-4223-a6f8-2eae73bb41cd",
   "metadata": {},
   "outputs": [
    {
     "name": "stdout",
     "output_type": "stream",
     "text": [
      "I loved Pycon Fr 2023!\n"
     ]
    }
   ],
   "source": [
    "sentence = f\"{pronoun} {verb} {complement} {year}!\"\n",
    "print(sentence)"
   ]
  },
  {
   "cell_type": "markdown",
   "id": "9b02a964-1814-4938-9329-72df336054cf",
   "metadata": {
    "tags": []
   },
   "source": [
    "#### Explicit is better than implicit.\n",
    "\n",
    "Do not rely on magic, it should be clear what your code does"
   ]
  },
  {
   "cell_type": "code",
   "execution_count": 8,
   "id": "6b146695-693c-4140-9c39-df328ffca8cf",
   "metadata": {},
   "outputs": [],
   "source": [
    "# Implicit (example1)\n",
    "from requests import get\n",
    "\n",
    "r = get(\"https://www.pycon.fr/2023/\")"
   ]
  },
  {
   "cell_type": "code",
   "execution_count": 9,
   "id": "0d321e33-f12a-4709-9905-ea46417849fb",
   "metadata": {},
   "outputs": [],
   "source": [
    "# Explicit (example 1)\n",
    "import requests\n",
    "\n",
    "r = requests.get(\"https://www.pycon.fr/2023/\")"
   ]
  },
  {
   "cell_type": "code",
   "execution_count": 10,
   "id": "1d813cdb-6f6a-4da3-93e9-41741723e293",
   "metadata": {},
   "outputs": [],
   "source": [
    "# Implicit (Bad) (example 2)\n",
    "def guess_function(x):\n",
    "    return 0 if x % 2 == 0 else x + 5"
   ]
  },
  {
   "cell_type": "code",
   "execution_count": 11,
   "id": "777ae92e-6ad1-4187-a56d-bfa319dae4c8",
   "metadata": {},
   "outputs": [],
   "source": [
    "# Explicit (Good) (example 2)\n",
    "def add_5_if_odd_else_return_0(x):\n",
    "    return 0 if x % 2 == 0 else x + 5"
   ]
  },
  {
   "cell_type": "code",
   "execution_count": 12,
   "id": "5f8f37a0-da25-456a-b752-6e021c2b579e",
   "metadata": {},
   "outputs": [
    {
     "name": "stdout",
     "output_type": "stream",
     "text": [
      "8\n",
      "12\n",
      "24\n"
     ]
    },
    {
     "data": {
      "text/plain": [
       "' If I have to guess, this function adds 5 --> Wrong'"
      ]
     },
     "execution_count": 12,
     "metadata": {},
     "output_type": "execute_result"
    }
   ],
   "source": [
    "print(guess_function(3))\n",
    "print(guess_function(7))\n",
    "print(guess_function(19))\n",
    "\n",
    "\" If I have to guess, this function adds 5 --> Wrong\""
   ]
  },
  {
   "cell_type": "markdown",
   "id": "40cdc742-f1b7-442c-b348-ebf02604dfa1",
   "metadata": {},
   "source": [
    "#### Flat is better than nested.\n",
    "\n",
    "If you can, use list comprehension (unless nesting really enhances understability)"
   ]
  },
  {
   "cell_type": "code",
   "execution_count": 13,
   "id": "73c6ab22-cf80-4aff-80aa-bdce1b457c42",
   "metadata": {},
   "outputs": [
    {
     "name": "stdout",
     "output_type": "stream",
     "text": [
      "['0 is even', '1 is odd', '2 is even', '3 is odd', '4 is even', '5 is odd', '6 is even', '7 is odd', '8 is even', '9 is odd']\n"
     ]
    }
   ],
   "source": [
    "\"\"\" Nested (not great) \"\"\"\n",
    "numbers = [0, 1, 2, 3, 4, 5, 6, 7, 8, 9]\n",
    "number_odd_even = []\n",
    "\n",
    "for number in numbers:\n",
    "    if number % 2 == 0:\n",
    "        number_odd_even.append((f\"{number} is even\"))\n",
    "    else:\n",
    "        number_odd_even.append((f\"{number} is odd\"))\n",
    "\n",
    "print(number_odd_even)"
   ]
  },
  {
   "cell_type": "code",
   "execution_count": 14,
   "id": "bf3132ae-21a8-4397-badb-f172182157f9",
   "metadata": {},
   "outputs": [
    {
     "data": {
      "text/plain": [
       "['0 is even',\n",
       " '1 is odd',\n",
       " '2 is even',\n",
       " '3 is odd',\n",
       " '4 is even',\n",
       " '5 is odd',\n",
       " '6 is even',\n",
       " '7 is odd',\n",
       " '8 is even',\n",
       " '9 is odd']"
      ]
     },
     "execution_count": 14,
     "metadata": {},
     "output_type": "execute_result"
    }
   ],
   "source": [
    "\"\"\" Flat - List Comprehension, better: \"\"\"\n",
    "numbers = [0, 1, 2, 3, 4, 5, 6, 7, 8, 9]\n",
    "number_odd_even = [\n",
    "    (f\"{number} is even\") if number % 2 == 0 else f\"{number} is odd\"\n",
    "    for number in numbers\n",
    "]\n",
    "number_odd_even"
   ]
  },
  {
   "cell_type": "markdown",
   "id": "eb768f43-772f-4e05-9592-25e0bfe055f2",
   "metadata": {},
   "source": [
    "### PEP 8 Specifications\n",
    "\n",
    "You should really look up the [PEP-8 documpentation](https://pep8.org/).\n",
    "\n",
    "It comes with all the code to illustrate, so it would add 0 value for me to add it here. \n",
    "Eric Dasse mentionned some of the specs found there, like avoiding ``` == True```, but if you are following these notes and you really want to learn this topic, I suggest you stop here for now and read the official page. It is very interesting and really easy to read!"
   ]
  },
  {
   "cell_type": "markdown",
   "id": "5638affa-4640-427e-81d7-2d8ad7a9be17",
   "metadata": {},
   "source": [
    "## Part 2: Object Oriented Programming with python\n",
    "* *After following the conference by Dimitri Merejkowski*\n",
    "\n",
    "### Class or dictionary ?\n",
    "\n",
    "What is the best way to represent a fraction (2/5 in the example) ?\n",
    "* With a class ?\n",
    "* With a dictionary?"
   ]
  },
  {
   "cell_type": "code",
   "execution_count": 15,
   "id": "4179d324-5576-49d8-b8c7-bd05156f92d2",
   "metadata": {},
   "outputs": [],
   "source": [
    "# With a class:\n",
    "class Fraction:\n",
    "    def __init__(self, numerator, denominator=1):\n",
    "        if denominator == 0:\n",
    "            raise ZeroDivisionError()\n",
    "        self.numerator = numerator\n",
    "        self.denominator = denominator\n",
    "\n",
    "\n",
    "fraction_class = Fraction(2, 5)"
   ]
  },
  {
   "cell_type": "code",
   "execution_count": 16,
   "id": "17523b4e-9030-436c-af51-bfb223415129",
   "metadata": {},
   "outputs": [],
   "source": [
    "fraction_class = Fraction(2, 5)"
   ]
  },
  {
   "cell_type": "code",
   "execution_count": 17,
   "id": "4eeccfa5-b2f1-4922-a4ea-f2bfa6c0d5af",
   "metadata": {},
   "outputs": [],
   "source": [
    "# With a dictionary:\n",
    "fraction_dict = {\"numerator\": 2, \"denominator\": 5}"
   ]
  },
  {
   "cell_type": "markdown",
   "id": "ddb8ec8c-7577-4eba-bc47-c2b8e428daee",
   "metadata": {},
   "source": [
    "In this (demo) case, a class is better, for 2 reasons :\n",
    "1. You can not add data validation to a disctionary (``` if denominator == 0:```)\n",
    "2. You can not add default values to a dictionary: In this case, you can define a fraction with just the numerator (it equals a division by 1)\n",
    "\n",
    "For example:"
   ]
  },
  {
   "cell_type": "code",
   "execution_count": 18,
   "id": "047253a2-1f8c-49aa-a277-1ad124967ebf",
   "metadata": {},
   "outputs": [
    {
     "data": {
      "text/plain": [
       "{'numerator': 2, 'denominator': 0}"
      ]
     },
     "execution_count": 18,
     "metadata": {},
     "output_type": "execute_result"
    }
   ],
   "source": [
    "# If I try a division by 0, my class takes care\n",
    "# of the error, but the dictionary does not:\n",
    "fraction_dict_div0 = {\"numerator\": 2, \"denominator\": 0}\n",
    "fraction_dict_div0"
   ]
  },
  {
   "cell_type": "code",
   "execution_count": 19,
   "id": "c70075ba-1e0b-487b-8f2a-64dc78cc7ae0",
   "metadata": {},
   "outputs": [
    {
     "ename": "ZeroDivisionError",
     "evalue": "",
     "output_type": "error",
     "traceback": [
      "\u001b[1;31m---------------------------------------------------------------------------\u001b[0m",
      "\u001b[1;31mZeroDivisionError\u001b[0m                         Traceback (most recent call last)",
      "Cell \u001b[1;32mIn[19], line 2\u001b[0m\n\u001b[0;32m      1\u001b[0m \u001b[38;5;66;03m# We get 0 Division Error !!\u001b[39;00m\n\u001b[1;32m----> 2\u001b[0m fraction_class_div0 \u001b[38;5;241m=\u001b[39m \u001b[43mFraction\u001b[49m\u001b[43m(\u001b[49m\u001b[38;5;241;43m2\u001b[39;49m\u001b[43m,\u001b[49m\u001b[43m \u001b[49m\u001b[38;5;241;43m0\u001b[39;49m\u001b[43m)\u001b[49m\n",
      "Cell \u001b[1;32mIn[15], line 5\u001b[0m, in \u001b[0;36mFraction.__init__\u001b[1;34m(self, numerator, denominator)\u001b[0m\n\u001b[0;32m      3\u001b[0m \u001b[38;5;28;01mdef\u001b[39;00m \u001b[38;5;21m__init__\u001b[39m(\u001b[38;5;28mself\u001b[39m, numerator, denominator\u001b[38;5;241m=\u001b[39m\u001b[38;5;241m1\u001b[39m):\n\u001b[0;32m      4\u001b[0m     \u001b[38;5;28;01mif\u001b[39;00m denominator \u001b[38;5;241m==\u001b[39m \u001b[38;5;241m0\u001b[39m:\n\u001b[1;32m----> 5\u001b[0m         \u001b[38;5;28;01mraise\u001b[39;00m \u001b[38;5;167;01mZeroDivisionError\u001b[39;00m()\n\u001b[0;32m      6\u001b[0m     \u001b[38;5;28mself\u001b[39m\u001b[38;5;241m.\u001b[39mnumerator \u001b[38;5;241m=\u001b[39m numerator\n\u001b[0;32m      7\u001b[0m     \u001b[38;5;28mself\u001b[39m\u001b[38;5;241m.\u001b[39mdenominator \u001b[38;5;241m=\u001b[39m denominator\n",
      "\u001b[1;31mZeroDivisionError\u001b[0m: "
     ]
    }
   ],
   "source": [
    "# We get 0 Division Error !!\n",
    "fraction_class_div0 = Fraction(2, 0)"
   ]
  },
  {
   "cell_type": "markdown",
   "id": "46977e0e-e760-4197-af12-4fc91eb0a56d",
   "metadata": {},
   "source": [
    "### Encapsulation\n",
    "\n",
    "An object of class Counter (see below) can be incremented by a a value of x (counter.increment(x)). The increment method can be called many times and it stores the new value in \\_total variable. The .total() method displays the value of \\_total.\n",
    "\n",
    "The \\_total variable is protected with encapsulation by using a single leading underscore in its name, which is a convention to indicate that the variable should be considered private and accessed only through the public methods of the class."
   ]
  },
  {
   "cell_type": "code",
   "execution_count": 20,
   "id": "a43ca7c4-5cbb-4df5-b11e-c20ea3d4a164",
   "metadata": {},
   "outputs": [],
   "source": [
    "# The _total variable has been protected with encapsualtion\n",
    "class Counter:\n",
    "    def __init__(self):\n",
    "        self._total = 0\n",
    "\n",
    "    def increment(self, number):\n",
    "        self._total += number\n",
    "\n",
    "    def total(self):\n",
    "        return self._total"
   ]
  },
  {
   "cell_type": "code",
   "execution_count": 21,
   "id": "38ed09c7-3a90-4701-a431-e1d712c13371",
   "metadata": {},
   "outputs": [],
   "source": [
    "counter_demo = Counter()"
   ]
  },
  {
   "cell_type": "code",
   "execution_count": 22,
   "id": "9f612f6d-5e08-44fd-a26f-8bf03015ed79",
   "metadata": {},
   "outputs": [
    {
     "data": {
      "text/plain": [
       "5"
      ]
     },
     "execution_count": 22,
     "metadata": {},
     "output_type": "execute_result"
    }
   ],
   "source": [
    "# Run this cell as many times as you want,\n",
    "# you can also change the increment value\n",
    "counter_demo.increment(5)\n",
    "counter_demo.total()"
   ]
  },
  {
   "cell_type": "code",
   "execution_count": 23,
   "id": "2b16fb10-ed74-4625-b476-07e8c65691c2",
   "metadata": {},
   "outputs": [
    {
     "data": {
      "text/plain": [
       "-2"
      ]
     },
     "execution_count": 23,
     "metadata": {},
     "output_type": "execute_result"
    }
   ],
   "source": [
    "# We can still mess it all up though, but you really have to want to!\n",
    "counter_demo._total = -2\n",
    "counter_demo.total()"
   ]
  },
  {
   "cell_type": "markdown",
   "id": "9425e360-63e6-4072-b318-8479938b0828",
   "metadata": {},
   "source": [
    "## Part 3: some usefull tools\n",
    "\n",
    "### Black\n",
    "\n",
    "https://pypi.org/project/black/\n",
    "\n",
    "\n",
    "To install black, just run : ```pip install black```\n",
    "\n",
    "\n",
    "But if you want to use it with jupyter notebooks, you can follow the steps described here:\n",
    "https://www.coiled.io/blog/code-formatting-jupyter-notebooks-with-black\n",
    "\n",
    "Once you do the installation, you might need to reload jupyter server.\n",
    "\n",
    "The following button should now be on your taskbar:\n",
    "\n",
    "![image.png](./input/black_icon.png)\n",
    "\n",
    "The only \"_problem_\" is that it formats all the notebook, you do not have the option to format only one cell.\n",
    "\n",
    "So if you have something like this (I know nobody would have something looking this bad, but to illustrate the point):\n",
    "\n",
    "```python\n",
    "# Before automatic formatting with black\n",
    "black_test_list =        [  1, 2,\n",
    "3, 5, \"double-quote\", 'single-quote',\n",
    "6]\n",
    "```"
   ]
  },
  {
   "cell_type": "code",
   "execution_count": 24,
   "id": "d9e61b39-2d9c-442e-8690-8d5b175232b1",
   "metadata": {},
   "outputs": [],
   "source": [
    "# After automatic formatting with black\n",
    "black_test_list = [1, 2, 3, 5, \"double-quote\", \"single-quote\", 6]"
   ]
  },
  {
   "cell_type": "markdown",
   "id": "f788bc77-1a95-4410-b921-fb8edfcfc36d",
   "metadata": {},
   "source": [
    "### Flake8\n",
    "\n",
    "Official documentation:\n",
    "https://flake8.pycqa.org/en/latest/\n",
    "\n",
    "To use flake 8 in jupyterlab, see this reference: \n",
    "https://stackoverflow.com/questions/26126853/verifying-pep8-in-ipython-notebook-code\n",
    "\n",
    "As you can see, the 2 lines of code at the very top of this notebook activate it!"
   ]
  },
  {
   "cell_type": "markdown",
   "id": "fe8f84ce-e3db-452d-9ac5-8623e9ea1dc2",
   "metadata": {},
   "source": [
    "\n",
    "\n",
    "\n",
    "https://stackoverflow.com/questions/26126853/verifying-pep8-in-ipython-notebook-code"
   ]
  },
  {
   "cell_type": "code",
   "execution_count": 25,
   "id": "d6bcf57f-a64f-4432-bdec-660eb808fbc6",
   "metadata": {},
   "outputs": [],
   "source": [
    "#!pip install flake8 pycodestyle_magic"
   ]
  },
  {
   "cell_type": "code",
   "execution_count": 26,
   "id": "9ed81efa-1f99-4693-9c06-2524e4635232",
   "metadata": {},
   "outputs": [
    {
     "name": "stdout",
     "output_type": "stream",
     "text": [
      "Error in callback <bound method VarWatcher.auto_run_flake8 of <pycodestyle_magic.VarWatcher object at 0x000001E76F24DC90>> (for post_run_cell):\n"
     ]
    },
    {
     "ename": "AttributeError",
     "evalue": "'_io.StringIO' object has no attribute 'buffer'",
     "output_type": "error",
     "traceback": [
      "\u001b[1;31m---------------------------------------------------------------------------\u001b[0m",
      "\u001b[1;31mAttributeError\u001b[0m                            Traceback (most recent call last)",
      "File \u001b[1;32m~\\mambaforge\\lib\\site-packages\\pycodestyle_magic.py:41\u001b[0m, in \u001b[0;36mVarWatcher.auto_run_flake8\u001b[1;34m(self, result)\u001b[0m\n\u001b[0;32m     40\u001b[0m \u001b[38;5;28;01mdef\u001b[39;00m \u001b[38;5;21mauto_run_flake8\u001b[39m(\u001b[38;5;28mself\u001b[39m, result):\n\u001b[1;32m---> 41\u001b[0m     \u001b[43mflake8\u001b[49m\u001b[43m(\u001b[49m\u001b[38;5;241;43m1\u001b[39;49m\u001b[43m,\u001b[49m\u001b[43m \u001b[49m\u001b[43mresult\u001b[49m\u001b[38;5;241;43m.\u001b[39;49m\u001b[43minfo\u001b[49m\u001b[38;5;241;43m.\u001b[39;49m\u001b[43mraw_cell\u001b[49m\u001b[43m,\u001b[49m\u001b[43m \u001b[49m\u001b[43mauto\u001b[49m\u001b[38;5;241;43m=\u001b[39;49m\u001b[38;5;28;43;01mTrue\u001b[39;49;00m\u001b[43m)\u001b[49m\n\u001b[0;32m     42\u001b[0m     \u001b[38;5;28;01mif\u001b[39;00m result\u001b[38;5;241m.\u001b[39merror_before_exec:\n\u001b[0;32m     43\u001b[0m         \u001b[38;5;28mprint\u001b[39m(\u001b[38;5;124m'\u001b[39m\u001b[38;5;124mError before execution: \u001b[39m\u001b[38;5;132;01m%s\u001b[39;00m\u001b[38;5;124m'\u001b[39m \u001b[38;5;241m%\u001b[39m result\u001b[38;5;241m.\u001b[39merror_before_exec)\n",
      "File \u001b[1;32m~\\mambaforge\\lib\\site-packages\\pycodestyle_magic.py:218\u001b[0m, in \u001b[0;36mflake8\u001b[1;34m(line, cell, auto)\u001b[0m\n\u001b[0;32m    211\u001b[0m flake \u001b[38;5;241m=\u001b[39m flake8_module\u001b[38;5;241m.\u001b[39mget_style_guide(\n\u001b[0;32m    212\u001b[0m     extend_ignore\u001b[38;5;241m=\u001b[39mignore_codes, \n\u001b[0;32m    213\u001b[0m     max_line_length\u001b[38;5;241m=\u001b[39mmax_line_length\n\u001b[0;32m    214\u001b[0m )\n\u001b[0;32m    217\u001b[0m \u001b[38;5;28;01mwith\u001b[39;00m io\u001b[38;5;241m.\u001b[39mStringIO() \u001b[38;5;28;01mas\u001b[39;00m buf, redirect_stdout(buf):\n\u001b[1;32m--> 218\u001b[0m     _ \u001b[38;5;241m=\u001b[39m \u001b[43mflake\u001b[49m\u001b[38;5;241;43m.\u001b[39;49m\u001b[43mcheck_files\u001b[49m\u001b[43m(\u001b[49m\u001b[43m[\u001b[49m\u001b[43mf\u001b[49m\u001b[38;5;241;43m.\u001b[39;49m\u001b[43mname\u001b[49m\u001b[43m]\u001b[49m\u001b[43m)\u001b[49m\n\u001b[0;32m    219\u001b[0m     \u001b[38;5;28;01mfor\u001b[39;00m line \u001b[38;5;129;01min\u001b[39;00m buf\u001b[38;5;241m.\u001b[39mgetvalue()\u001b[38;5;241m.\u001b[39msplitlines():\n\u001b[0;32m    220\u001b[0m         \u001b[38;5;66;03m# on windows drive path also contains :\u001b[39;00m\n\u001b[0;32m    221\u001b[0m         temp_file, line, col, error \u001b[38;5;241m=\u001b[39m line\u001b[38;5;241m.\u001b[39msplit(\u001b[38;5;124m'\u001b[39m\u001b[38;5;124m:\u001b[39m\u001b[38;5;124m'\u001b[39m)[\u001b[38;5;241m-\u001b[39m\u001b[38;5;241m4\u001b[39m:] \n",
      "File \u001b[1;32m~\\mambaforge\\lib\\site-packages\\flake8\\api\\legacy.py:117\u001b[0m, in \u001b[0;36mStyleGuide.check_files\u001b[1;34m(self, paths)\u001b[0m\n\u001b[0;32m    115\u001b[0m \u001b[38;5;28mself\u001b[39m\u001b[38;5;241m.\u001b[39m_application\u001b[38;5;241m.\u001b[39moptions\u001b[38;5;241m.\u001b[39mfilenames \u001b[38;5;241m=\u001b[39m paths\n\u001b[0;32m    116\u001b[0m \u001b[38;5;28mself\u001b[39m\u001b[38;5;241m.\u001b[39m_application\u001b[38;5;241m.\u001b[39mrun_checks()\n\u001b[1;32m--> 117\u001b[0m \u001b[38;5;28;43mself\u001b[39;49m\u001b[38;5;241;43m.\u001b[39;49m\u001b[43m_application\u001b[49m\u001b[38;5;241;43m.\u001b[39;49m\u001b[43mreport_errors\u001b[49m\u001b[43m(\u001b[49m\u001b[43m)\u001b[49m\n\u001b[0;32m    118\u001b[0m \u001b[38;5;28;01mreturn\u001b[39;00m Report(\u001b[38;5;28mself\u001b[39m\u001b[38;5;241m.\u001b[39m_application)\n",
      "File \u001b[1;32m~\\mambaforge\\lib\\site-packages\\flake8\\main\\application.py:141\u001b[0m, in \u001b[0;36mApplication.report_errors\u001b[1;34m(self)\u001b[0m\n\u001b[0;32m    139\u001b[0m LOG\u001b[38;5;241m.\u001b[39minfo(\u001b[38;5;124m\"\u001b[39m\u001b[38;5;124mReporting errors\u001b[39m\u001b[38;5;124m\"\u001b[39m)\n\u001b[0;32m    140\u001b[0m \u001b[38;5;28;01massert\u001b[39;00m \u001b[38;5;28mself\u001b[39m\u001b[38;5;241m.\u001b[39mfile_checker_manager \u001b[38;5;129;01mis\u001b[39;00m \u001b[38;5;129;01mnot\u001b[39;00m \u001b[38;5;28;01mNone\u001b[39;00m\n\u001b[1;32m--> 141\u001b[0m results \u001b[38;5;241m=\u001b[39m \u001b[38;5;28;43mself\u001b[39;49m\u001b[38;5;241;43m.\u001b[39;49m\u001b[43mfile_checker_manager\u001b[49m\u001b[38;5;241;43m.\u001b[39;49m\u001b[43mreport\u001b[49m\u001b[43m(\u001b[49m\u001b[43m)\u001b[49m\n\u001b[0;32m    142\u001b[0m \u001b[38;5;28mself\u001b[39m\u001b[38;5;241m.\u001b[39mtotal_result_count, \u001b[38;5;28mself\u001b[39m\u001b[38;5;241m.\u001b[39mresult_count \u001b[38;5;241m=\u001b[39m results\n\u001b[0;32m    143\u001b[0m LOG\u001b[38;5;241m.\u001b[39minfo(\n\u001b[0;32m    144\u001b[0m     \u001b[38;5;124m\"\u001b[39m\u001b[38;5;124mFound a total of \u001b[39m\u001b[38;5;132;01m%d\u001b[39;00m\u001b[38;5;124m violations and reported \u001b[39m\u001b[38;5;132;01m%d\u001b[39;00m\u001b[38;5;124m\"\u001b[39m,\n\u001b[0;32m    145\u001b[0m     \u001b[38;5;28mself\u001b[39m\u001b[38;5;241m.\u001b[39mtotal_result_count,\n\u001b[0;32m    146\u001b[0m     \u001b[38;5;28mself\u001b[39m\u001b[38;5;241m.\u001b[39mresult_count,\n\u001b[0;32m    147\u001b[0m )\n",
      "File \u001b[1;32m~\\mambaforge\\lib\\site-packages\\flake8\\checker.py:188\u001b[0m, in \u001b[0;36mManager.report\u001b[1;34m(self)\u001b[0m\n\u001b[0;32m    186\u001b[0m     results\u001b[38;5;241m.\u001b[39msort(key\u001b[38;5;241m=\u001b[39moperator\u001b[38;5;241m.\u001b[39mitemgetter(\u001b[38;5;241m1\u001b[39m, \u001b[38;5;241m2\u001b[39m))\n\u001b[0;32m    187\u001b[0m     \u001b[38;5;28;01mwith\u001b[39;00m \u001b[38;5;28mself\u001b[39m\u001b[38;5;241m.\u001b[39mstyle_guide\u001b[38;5;241m.\u001b[39mprocessing_file(filename):\n\u001b[1;32m--> 188\u001b[0m         results_reported \u001b[38;5;241m+\u001b[39m\u001b[38;5;241m=\u001b[39m \u001b[38;5;28;43mself\u001b[39;49m\u001b[38;5;241;43m.\u001b[39;49m\u001b[43m_handle_results\u001b[49m\u001b[43m(\u001b[49m\u001b[43mfilename\u001b[49m\u001b[43m,\u001b[49m\u001b[43m \u001b[49m\u001b[43mresults\u001b[49m\u001b[43m)\u001b[49m\n\u001b[0;32m    189\u001b[0m     results_found \u001b[38;5;241m+\u001b[39m\u001b[38;5;241m=\u001b[39m \u001b[38;5;28mlen\u001b[39m(results)\n\u001b[0;32m    190\u001b[0m \u001b[38;5;28;01mreturn\u001b[39;00m (results_found, results_reported)\n",
      "File \u001b[1;32m~\\mambaforge\\lib\\site-packages\\flake8\\checker.py:164\u001b[0m, in \u001b[0;36mManager._handle_results\u001b[1;34m(self, filename, results)\u001b[0m\n\u001b[0;32m    162\u001b[0m reported_results_count \u001b[38;5;241m=\u001b[39m \u001b[38;5;241m0\u001b[39m\n\u001b[0;32m    163\u001b[0m \u001b[38;5;28;01mfor\u001b[39;00m (error_code, line_number, column, text, physical_line) \u001b[38;5;129;01min\u001b[39;00m results:\n\u001b[1;32m--> 164\u001b[0m     reported_results_count \u001b[38;5;241m+\u001b[39m\u001b[38;5;241m=\u001b[39m \u001b[43mstyle_guide\u001b[49m\u001b[38;5;241;43m.\u001b[39;49m\u001b[43mhandle_error\u001b[49m\u001b[43m(\u001b[49m\n\u001b[0;32m    165\u001b[0m \u001b[43m        \u001b[49m\u001b[43mcode\u001b[49m\u001b[38;5;241;43m=\u001b[39;49m\u001b[43merror_code\u001b[49m\u001b[43m,\u001b[49m\n\u001b[0;32m    166\u001b[0m \u001b[43m        \u001b[49m\u001b[43mfilename\u001b[49m\u001b[38;5;241;43m=\u001b[39;49m\u001b[43mfilename\u001b[49m\u001b[43m,\u001b[49m\n\u001b[0;32m    167\u001b[0m \u001b[43m        \u001b[49m\u001b[43mline_number\u001b[49m\u001b[38;5;241;43m=\u001b[39;49m\u001b[43mline_number\u001b[49m\u001b[43m,\u001b[49m\n\u001b[0;32m    168\u001b[0m \u001b[43m        \u001b[49m\u001b[43mcolumn_number\u001b[49m\u001b[38;5;241;43m=\u001b[39;49m\u001b[43mcolumn\u001b[49m\u001b[43m,\u001b[49m\n\u001b[0;32m    169\u001b[0m \u001b[43m        \u001b[49m\u001b[43mtext\u001b[49m\u001b[38;5;241;43m=\u001b[39;49m\u001b[43mtext\u001b[49m\u001b[43m,\u001b[49m\n\u001b[0;32m    170\u001b[0m \u001b[43m        \u001b[49m\u001b[43mphysical_line\u001b[49m\u001b[38;5;241;43m=\u001b[39;49m\u001b[43mphysical_line\u001b[49m\u001b[43m,\u001b[49m\n\u001b[0;32m    171\u001b[0m \u001b[43m    \u001b[49m\u001b[43m)\u001b[49m\n\u001b[0;32m    172\u001b[0m \u001b[38;5;28;01mreturn\u001b[39;00m reported_results_count\n",
      "File \u001b[1;32m~\\mambaforge\\lib\\site-packages\\flake8\\style_guide.py:294\u001b[0m, in \u001b[0;36mStyleGuideManager.handle_error\u001b[1;34m(self, code, filename, line_number, column_number, text, physical_line)\u001b[0m\n\u001b[0;32m    273\u001b[0m \u001b[38;5;250m\u001b[39m\u001b[38;5;124;03m\"\"\"Handle an error reported by a check.\u001b[39;00m\n\u001b[0;32m    274\u001b[0m \n\u001b[0;32m    275\u001b[0m \u001b[38;5;124;03m:param code:\u001b[39;00m\n\u001b[1;32m   (...)\u001b[0m\n\u001b[0;32m    291\u001b[0m \u001b[38;5;124;03m    for counting of the number of errors found that were not ignored.\u001b[39;00m\n\u001b[0;32m    292\u001b[0m \u001b[38;5;124;03m\"\"\"\u001b[39;00m\n\u001b[0;32m    293\u001b[0m guide \u001b[38;5;241m=\u001b[39m \u001b[38;5;28mself\u001b[39m\u001b[38;5;241m.\u001b[39mstyle_guide_for(filename)\n\u001b[1;32m--> 294\u001b[0m \u001b[38;5;28;01mreturn\u001b[39;00m \u001b[43mguide\u001b[49m\u001b[38;5;241;43m.\u001b[39;49m\u001b[43mhandle_error\u001b[49m\u001b[43m(\u001b[49m\n\u001b[0;32m    295\u001b[0m \u001b[43m    \u001b[49m\u001b[43mcode\u001b[49m\u001b[43m,\u001b[49m\u001b[43m \u001b[49m\u001b[43mfilename\u001b[49m\u001b[43m,\u001b[49m\u001b[43m \u001b[49m\u001b[43mline_number\u001b[49m\u001b[43m,\u001b[49m\u001b[43m \u001b[49m\u001b[43mcolumn_number\u001b[49m\u001b[43m,\u001b[49m\u001b[43m \u001b[49m\u001b[43mtext\u001b[49m\u001b[43m,\u001b[49m\u001b[43m \u001b[49m\u001b[43mphysical_line\u001b[49m\n\u001b[0;32m    296\u001b[0m \u001b[43m\u001b[49m\u001b[43m)\u001b[49m\n",
      "File \u001b[1;32m~\\mambaforge\\lib\\site-packages\\flake8\\style_guide.py:428\u001b[0m, in \u001b[0;36mStyleGuide.handle_error\u001b[1;34m(self, code, filename, line_number, column_number, text, physical_line)\u001b[0m\n\u001b[0;32m    426\u001b[0m is_not_inline_ignored \u001b[38;5;241m=\u001b[39m error\u001b[38;5;241m.\u001b[39mis_inline_ignored(disable_noqa) \u001b[38;5;129;01mis\u001b[39;00m \u001b[38;5;28;01mFalse\u001b[39;00m\n\u001b[0;32m    427\u001b[0m \u001b[38;5;28;01mif\u001b[39;00m error_is_selected \u001b[38;5;129;01mand\u001b[39;00m is_not_inline_ignored:\n\u001b[1;32m--> 428\u001b[0m     \u001b[38;5;28;43mself\u001b[39;49m\u001b[38;5;241;43m.\u001b[39;49m\u001b[43mformatter\u001b[49m\u001b[38;5;241;43m.\u001b[39;49m\u001b[43mhandle\u001b[49m\u001b[43m(\u001b[49m\u001b[43merror\u001b[49m\u001b[43m)\u001b[49m\n\u001b[0;32m    429\u001b[0m     \u001b[38;5;28mself\u001b[39m\u001b[38;5;241m.\u001b[39mstats\u001b[38;5;241m.\u001b[39mrecord(error)\n\u001b[0;32m    430\u001b[0m     \u001b[38;5;28;01mreturn\u001b[39;00m \u001b[38;5;241m1\u001b[39m\n",
      "File \u001b[1;32m~\\mambaforge\\lib\\site-packages\\flake8\\formatting\\base.py:99\u001b[0m, in \u001b[0;36mBaseFormatter.handle\u001b[1;34m(self, error)\u001b[0m\n\u001b[0;32m     97\u001b[0m line \u001b[38;5;241m=\u001b[39m \u001b[38;5;28mself\u001b[39m\u001b[38;5;241m.\u001b[39mformat(error)\n\u001b[0;32m     98\u001b[0m source \u001b[38;5;241m=\u001b[39m \u001b[38;5;28mself\u001b[39m\u001b[38;5;241m.\u001b[39mshow_source(error)\n\u001b[1;32m---> 99\u001b[0m \u001b[38;5;28;43mself\u001b[39;49m\u001b[38;5;241;43m.\u001b[39;49m\u001b[43mwrite\u001b[49m\u001b[43m(\u001b[49m\u001b[43mline\u001b[49m\u001b[43m,\u001b[49m\u001b[43m \u001b[49m\u001b[43msource\u001b[49m\u001b[43m)\u001b[49m\n",
      "File \u001b[1;32m~\\mambaforge\\lib\\site-packages\\flake8\\formatting\\base.py:194\u001b[0m, in \u001b[0;36mBaseFormatter.write\u001b[1;34m(self, line, source)\u001b[0m\n\u001b[0;32m    181\u001b[0m \u001b[38;5;250m\u001b[39m\u001b[38;5;124;03m\"\"\"Write the line either to the output file or stdout.\u001b[39;00m\n\u001b[0;32m    182\u001b[0m \n\u001b[0;32m    183\u001b[0m \u001b[38;5;124;03mThis handles deciding whether to write to a file or print to standard\u001b[39;00m\n\u001b[1;32m   (...)\u001b[0m\n\u001b[0;32m    191\u001b[0m \u001b[38;5;124;03m    line of output.\u001b[39;00m\n\u001b[0;32m    192\u001b[0m \u001b[38;5;124;03m\"\"\"\u001b[39;00m\n\u001b[0;32m    193\u001b[0m \u001b[38;5;28;01mif\u001b[39;00m line:\n\u001b[1;32m--> 194\u001b[0m     \u001b[38;5;28;43mself\u001b[39;49m\u001b[38;5;241;43m.\u001b[39;49m\u001b[43m_write\u001b[49m\u001b[43m(\u001b[49m\u001b[43mline\u001b[49m\u001b[43m)\u001b[49m\n\u001b[0;32m    195\u001b[0m \u001b[38;5;28;01mif\u001b[39;00m source:\n\u001b[0;32m    196\u001b[0m     \u001b[38;5;28mself\u001b[39m\u001b[38;5;241m.\u001b[39m_write(source)\n",
      "File \u001b[1;32m~\\mambaforge\\lib\\site-packages\\flake8\\formatting\\base.py:178\u001b[0m, in \u001b[0;36mBaseFormatter._write\u001b[1;34m(self, output)\u001b[0m\n\u001b[0;32m    176\u001b[0m     \u001b[38;5;28mself\u001b[39m\u001b[38;5;241m.\u001b[39moutput_fd\u001b[38;5;241m.\u001b[39mwrite(output \u001b[38;5;241m+\u001b[39m \u001b[38;5;28mself\u001b[39m\u001b[38;5;241m.\u001b[39mnewline)\n\u001b[0;32m    177\u001b[0m \u001b[38;5;28;01mif\u001b[39;00m \u001b[38;5;28mself\u001b[39m\u001b[38;5;241m.\u001b[39moutput_fd \u001b[38;5;129;01mis\u001b[39;00m \u001b[38;5;28;01mNone\u001b[39;00m \u001b[38;5;129;01mor\u001b[39;00m \u001b[38;5;28mself\u001b[39m\u001b[38;5;241m.\u001b[39moptions\u001b[38;5;241m.\u001b[39mtee:\n\u001b[1;32m--> 178\u001b[0m     \u001b[43msys\u001b[49m\u001b[38;5;241;43m.\u001b[39;49m\u001b[43mstdout\u001b[49m\u001b[38;5;241;43m.\u001b[39;49m\u001b[43mbuffer\u001b[49m\u001b[38;5;241m.\u001b[39mwrite(output\u001b[38;5;241m.\u001b[39mencode() \u001b[38;5;241m+\u001b[39m \u001b[38;5;28mself\u001b[39m\u001b[38;5;241m.\u001b[39mnewline\u001b[38;5;241m.\u001b[39mencode())\n",
      "\u001b[1;31mAttributeError\u001b[0m: '_io.StringIO' object has no attribute 'buffer'"
     ]
    }
   ],
   "source": [
    "# For example, this variable is assigned without a space before and after the =\n",
    "# Also keep in mind that BLACK would have taken care of it\n",
    "flake_8_error=\"print an error for me, flake8!\""
   ]
  }
 ],
 "metadata": {
  "kernelspec": {
   "display_name": "Python 3 (ipykernel)",
   "language": "python",
   "name": "python3"
  },
  "language_info": {
   "codemirror_mode": {
    "name": "ipython",
    "version": 3
   },
   "file_extension": ".py",
   "mimetype": "text/x-python",
   "name": "python",
   "nbconvert_exporter": "python",
   "pygments_lexer": "ipython3",
   "version": "3.10.6"
  }
 },
 "nbformat": 4,
 "nbformat_minor": 5
}
