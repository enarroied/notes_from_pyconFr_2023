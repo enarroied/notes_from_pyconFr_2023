{
 "cells": [
  {
   "cell_type": "markdown",
   "id": "ee50d82c-d737-4180-b628-b6b49f9f2798",
   "metadata": {},
   "source": [
    "# Modern and functional python to build robust software\n",
    "\n",
    "*Following the conference By Guillaume Desforges*\n",
    "\n",
    "This Notebook contains some samples of code. They are used to illustrate My blog article that summarizes the conferences I attended at the (very great) Pycon Fr 2023, in Bordeaux, France.\n",
    "The code comes from the one showed at the conference in Guillaume's slides with some personal comments. It may contain very small modifications. It is not all the code shown at the presentation."
   ]
  },
  {
   "cell_type": "markdown",
   "id": "bb6cdba7-b955-4940-9b9e-510651ceded6",
   "metadata": {},
   "source": [
    "## 1. Pure and impure functions\n",
    "\n",
    "Let's define a funtion, in several ways:"
   ]
  },
  {
   "cell_type": "code",
   "execution_count": 1,
   "id": "66494553-4ece-4bcd-9bea-a1ff87b233a7",
   "metadata": {},
   "outputs": [
    {
     "data": {
      "text/plain": [
       "2"
      ]
     },
     "execution_count": 1,
     "metadata": {},
     "output_type": "execute_result"
    }
   ],
   "source": [
    "# This function looks nice:\n",
    "\n",
    "\n",
    "def increment(x):\n",
    "    return x + 1\n",
    "\n",
    "\n",
    "increment(1)"
   ]
  },
  {
   "cell_type": "code",
   "execution_count": 2,
   "id": "f1efad38-2e3b-4274-b5d0-fda382d64339",
   "metadata": {},
   "outputs": [
    {
     "data": {
      "text/plain": [
       "2"
      ]
     },
     "execution_count": 2,
     "metadata": {},
     "output_type": "execute_result"
    }
   ],
   "source": [
    "# This one looks not so good:\n",
    "\n",
    "\n",
    "I = 1\n",
    "\n",
    "\n",
    "def increment(x):\n",
    "    return x + I\n",
    "\n",
    "\n",
    "increment(1)"
   ]
  },
  {
   "cell_type": "markdown",
   "id": "03d0cc3f-a6b6-4621-a543-d23047127502",
   "metadata": {},
   "source": [
    "The problem with the latter function is that if we modify the value of I, we will also modify the result of the function when we give him the exact same parameter:"
   ]
  },
  {
   "cell_type": "code",
   "execution_count": 3,
   "id": "43f2de9c-2c35-4b0b-8ba3-ef27a0e62b81",
   "metadata": {},
   "outputs": [
    {
     "name": "stdout",
     "output_type": "stream",
     "text": [
      "When I is 1, increment(1) is: 2\n",
      "When I is 1, increment(1) is: 1\n"
     ]
    }
   ],
   "source": [
    "print(f\"When I is 1, increment(1) is: {increment(1)}\")\n",
    "\n",
    "I = 0\n",
    "print(f\"When I is 1, increment(1) is: {increment(1)}\")"
   ]
  },
  {
   "cell_type": "markdown",
   "id": "972f7fd0-c3f1-4483-b468-6aff438c6c2a",
   "metadata": {},
   "source": [
    "Not only this is bad, but it also can pass unit testing :"
   ]
  },
  {
   "cell_type": "code",
   "execution_count": 4,
   "id": "c9e11d08-5453-475b-923a-16f2d79ae995",
   "metadata": {},
   "outputs": [],
   "source": [
    "import ipytest\n",
    "import pytest\n",
    "\n",
    "ipytest.autoconfig()"
   ]
  },
  {
   "cell_type": "code",
   "execution_count": 5,
   "id": "bd2faf49-5aed-4ebc-95c9-4cf06adaf226",
   "metadata": {
    "tags": []
   },
   "outputs": [
    {
     "name": "stdout",
     "output_type": "stream",
     "text": [
      "\u001b[32m.\u001b[0m\u001b[32m                                                                                            [100%]\u001b[0m\n",
      "\u001b[32m\u001b[32m\u001b[1m1 passed\u001b[0m\u001b[32m in 0.00s\u001b[0m\u001b[0m\n"
     ]
    }
   ],
   "source": [
    "%%ipytest\n",
    "I = 1\n",
    "\n",
    "\n",
    "# This will pass the test because I is currently 1, but it may not be when the function is called\n",
    "def test_increment():\n",
    "    assert increment(1) == 2"
   ]
  },
  {
   "cell_type": "markdown",
   "id": "20f2d251-79fe-4dda-8841-5ccc248a8ca9",
   "metadata": {},
   "source": [
    "We could also write the function like this:"
   ]
  },
  {
   "cell_type": "code",
   "execution_count": 6,
   "id": "506bf25e-c04e-44ef-9127-942419c1f76e",
   "metadata": {},
   "outputs": [],
   "source": [
    "def increment(x):\n",
    "    result = x + 1\n",
    "\n",
    "    with open(\"increments.txt\", mode=\"a\") as f:\n",
    "        f.write(f\"{result}\\n\")\n",
    "    return result"
   ]
  },
  {
   "cell_type": "markdown",
   "id": "95f373d9-4031-44c5-bf6f-72cbc7a1a1c4",
   "metadata": {},
   "source": [
    "This function has a big problem in it, the fact that we are writing the result of the function in a file is whais a called a \"side effect\". If the file is not accessible, the function will crash and I will not return the result."
   ]
  },
  {
   "cell_type": "markdown",
   "id": "f3422229-f5bb-426b-94cf-cb564607e8fc",
   "metadata": {},
   "source": [
    "### Onion architecture\n",
    "\n",
    "The demonstration used for this part of the conference is based on a Flask Application.\n",
    "Let's pretend we have this code, we are not going to try to run it because we are not launching flask app:"
   ]
  },
  {
   "cell_type": "markdown",
   "id": "2239f9c7-7e01-45d2-88db-cb00b841563e",
   "metadata": {},
   "source": [
    "```\n",
    "app/web.py\n",
    "``` \n",
    "\n",
    "\n",
    "```python\n",
    "import json\n",
    "\n",
    "from flask import Flask, request\n",
    "from flask_sqlalchemy import SQLAlchemy\n",
    "\n",
    "with open(\"config.json\") as f:\n",
    "    data = json.load(f)\n",
    "\n",
    "DISCOUNT = float(json.load(\"config.json\")[\"discount\"])\n",
    "\n",
    "db = SQLAlchemy()\n",
    "\n",
    "\n",
    "class Sale(db.Model):\n",
    "    price = db.Column(db.Float)\n",
    "\n",
    "\n",
    "app = Flask()\n",
    "app.config[\"SQLALCHEMY_DATABASE_URI\"] = \"sqlite:///project.db\"\n",
    "db.init_app(app)\n",
    "\n",
    "\n",
    "@app.get(\"/discount\")\n",
    "def get_discount():\n",
    "    return DISCOUNT\n",
    "\n",
    "\n",
    "@app.post(\"/sales\")\n",
    "def create_sale():\n",
    "    price = float(request.args.price)\n",
    "    \n",
    "    # Original slide had it as 'final_price *= 1 - DISCOUNT', I think it is a typo:\n",
    "    final_price = price - DISCOUNT \n",
    "    db.session.add(Sale(final_price))\n",
    "    db.session.commit()\n",
    "    return 200\n",
    "\n",
    "\n",
    "if __name__ == \"__main__\":\n",
    "    app.run()\n",
    "```"
   ]
  },
  {
   "cell_type": "markdown",
   "id": "750b3018-11a9-4b1d-821e-e3a1319a498c",
   "metadata": {},
   "source": [
    "---\n",
    "There is a problem with this statement:\n",
    "\n",
    "```python\n",
    "DISCOUNT = float(json.load(\"config.json\")[\"discount\"])\n",
    "```\n",
    "---\n",
    "It can give a problem every time we launch the application if there is a problem with the file or with its content.\n",
    "\n",
    "Another problem is, if we have the following code, when we run it from the CLI (Command Line Interface), if we have a problem with the json file, we can not use the function, and this is not good because we do not even need to have a running application to do it :\n",
    "```python\n",
    "from app.web import db, Sale\n",
    "\n",
    "print(sum(sale.price for sale in db.session.execute(db.select(Sale))))\n",
    "```\n",
    "\n",
    "\n",
    "We can replace it with the following, \n",
    "\n",
    "```python\n",
    "def read_discount():\n",
    "    return float(json.load(\"config.json\")[\"discount\"])\n",
    "\n",
    "\n",
    "@app.get(\"/discount\")\n",
    "def get_discount():\n",
    "    return read_discount()\n",
    "\n",
    "\n",
    "@app.post(\"/sales\")\n",
    "def create_sale():\n",
    "    price = float(request.args.price)\n",
    "    final_price *= 1 - read_discount() #<-- we call the function here \n",
    "    db.session.add(Sale(final_price))\n",
    "    db.session.commit()\n",
    "    return 200\n",
    "```"
   ]
  },
  {
   "cell_type": "markdown",
   "id": "72ae6999-d39f-4406-979e-2753ad16b824",
   "metadata": {},
   "source": [
    "We can still get a problem if we call read_discount() from another function, for example, if we create the following, which gives us the discounted price from a given (original) price:\n",
    "\n",
    "```python\n",
    "def compute_final_price(price):\n",
    "    return price * (1 - read_discount()) # remember, read_discount calls the json file\n",
    "```\n",
    "\n",
    "This function calls read_discount() which is an impure function, and it becomes impure too. If we want to unit test it, we need to have a json file with all the proper info in it. We would be better of if we transform the impure function into a pure function, and we can eventually use the result of the impure function as an argument when we execute it in our program.\n",
    "\n",
    "```python\n",
    "def compute_final_price(price, discount):\n",
    "    return price * (1 - discount()) # this is a pure function now\n",
    "```\n",
    "\n",
    "And our flask function now looks like this:\n",
    "\n",
    "```python\n",
    "import json\n",
    "\n",
    "from flask import Flask, request\n",
    "from flask_sqlalchemy import SQLAlchemy\n",
    "\n",
    "with open(\"config.json\") as f:\n",
    "    data = json.load(f)\n",
    "\n",
    "DISCOUNT = float(json.load(\"config.json\")[\"discount\"])\n",
    "\n",
    "db = SQLAlchemy()\n",
    "\n",
    "\n",
    "class Sale(db.Model):\n",
    "    price = db.Column(db.Float)\n",
    "\n",
    "\n",
    "app = Flask()\n",
    "app.config[\"SQLALCHEMY_DATABASE_URI\"] = \"sqlite:///project.db\"\n",
    "db.init_app(app)\n",
    "\n",
    "\n",
    "@app.get(\"/discount\")\n",
    "def get_discount():\n",
    "    return DISCOUNT\n",
    "\n",
    "\n",
    "@app.post(\"/sales\")\n",
    "def create_sale():\n",
    "    price = float(request.args.price)\n",
    "    final_price *= compute_final_price(price, discount)\n",
    "    db.session.add(Sale(final_price))\n",
    "    db.session.commit()\n",
    "    return 200\n",
    "\n",
    "\n",
    "if __name__ == \"__main__\":\n",
    "    create_app.run()\n",
    "```\n",
    "\n",
    "What we did is to make the impurity be in the outer layers of the application, we now have pure functions that we can test separately and that do not depend on the call to the json file."
   ]
  },
  {
   "cell_type": "markdown",
   "id": "c11d8628-3854-4643-9c68-3943a13f7fc0",
   "metadata": {},
   "source": [
    "## 2. Immutability\n",
    "\n",
    "We can define a classes using the ```@dataclass``` decorator. \n",
    "\n",
    "In the example below, we define the same class twice, once without the ```frozen=True``` parameter, which leads to a mutable class, and the second one uses the parameter to make the class immutable."
   ]
  },
  {
   "cell_type": "code",
   "execution_count": 7,
   "id": "c91e176f-a294-4d85-a660-4aa29a32d354",
   "metadata": {},
   "outputs": [],
   "source": [
    "from dataclasses import dataclass"
   ]
  },
  {
   "cell_type": "code",
   "execution_count": 8,
   "id": "a958dd04-7456-4c0b-a922-fda582d4004b",
   "metadata": {},
   "outputs": [
    {
     "name": "stdout",
     "output_type": "stream",
     "text": [
      "True\n",
      "found\n",
      "Point(x=2, y=0)\n",
      "True\n"
     ]
    },
    {
     "ename": "KeyError",
     "evalue": "Point(x=2, y=0)",
     "output_type": "error",
     "traceback": [
      "\u001b[1;31m---------------------------------------------------------------------------\u001b[0m",
      "\u001b[1;31mKeyError\u001b[0m                                  Traceback (most recent call last)",
      "Cell \u001b[1;32mIn[8], line 20\u001b[0m\n\u001b[0;32m     18\u001b[0m \u001b[38;5;28mprint\u001b[39m(p)  \u001b[38;5;66;03m## Point(x=2, y=0)\u001b[39;00m\n\u001b[0;32m     19\u001b[0m \u001b[38;5;28mprint\u001b[39m(p \u001b[38;5;241m==\u001b[39m Point(x\u001b[38;5;241m=\u001b[39m\u001b[38;5;241m2\u001b[39m, y\u001b[38;5;241m=\u001b[39m\u001b[38;5;241m0\u001b[39m))  \u001b[38;5;66;03m# True\u001b[39;00m\n\u001b[1;32m---> 20\u001b[0m \u001b[38;5;28mprint\u001b[39m(\u001b[43md\u001b[49m\u001b[43m[\u001b[49m\u001b[43mPoint\u001b[49m\u001b[43m(\u001b[49m\u001b[43mx\u001b[49m\u001b[38;5;241;43m=\u001b[39;49m\u001b[38;5;241;43m2\u001b[39;49m\u001b[43m,\u001b[49m\u001b[43m \u001b[49m\u001b[43my\u001b[49m\u001b[38;5;241;43m=\u001b[39;49m\u001b[38;5;241;43m0\u001b[39;49m\u001b[43m)\u001b[49m\u001b[43m]\u001b[49m)  \u001b[38;5;66;03m# KeyError!\u001b[39;00m\n",
      "\u001b[1;31mKeyError\u001b[0m: Point(x=2, y=0)"
     ]
    }
   ],
   "source": [
    "@dataclass\n",
    "class Point:\n",
    "    x: int\n",
    "    y: int\n",
    "\n",
    "    def __hash__(self):\n",
    "        return self.x << 16 | self.y\n",
    "\n",
    "\n",
    "p = Point(x=1, y=0)\n",
    "d = {p: \"found\"}\n",
    "\n",
    "print(p == Point(x=1, y=0))  # True\n",
    "print(d[Point(x=1, y=0)])  # found\n",
    "\n",
    "p.x = 2  # We change the value of attribute x in the object p\n",
    "\n",
    "print(p)  ## Point(x=2, y=0)\n",
    "print(p == Point(x=2, y=0))  # True\n",
    "print(d[Point(x=2, y=0)])  # KeyError!"
   ]
  },
  {
   "cell_type": "code",
   "execution_count": 9,
   "id": "9c838487-4ab3-438c-8cde-3702cbc198bf",
   "metadata": {},
   "outputs": [
    {
     "name": "stdout",
     "output_type": "stream",
     "text": [
      "True\n",
      "found\n",
      "False\n"
     ]
    },
    {
     "ename": "FrozenInstanceError",
     "evalue": "cannot assign to field 'x'",
     "output_type": "error",
     "traceback": [
      "\u001b[1;31m---------------------------------------------------------------------------\u001b[0m",
      "\u001b[1;31mFrozenInstanceError\u001b[0m                       Traceback (most recent call last)",
      "Cell \u001b[1;32mIn[9], line 20\u001b[0m\n\u001b[0;32m     17\u001b[0m p \u001b[38;5;241m=\u001b[39m Point(x\u001b[38;5;241m=\u001b[39m\u001b[38;5;241m2\u001b[39m, y\u001b[38;5;241m=\u001b[39m\u001b[38;5;241m0\u001b[39m)  \u001b[38;5;66;03m# This works!\u001b[39;00m\n\u001b[0;32m     18\u001b[0m \u001b[38;5;28mprint\u001b[39m(p \u001b[38;5;241m==\u001b[39m Point(x\u001b[38;5;241m=\u001b[39m\u001b[38;5;241m1\u001b[39m, y\u001b[38;5;241m=\u001b[39m\u001b[38;5;241m0\u001b[39m))  \u001b[38;5;66;03m# Now this is False\u001b[39;00m\n\u001b[1;32m---> 20\u001b[0m \u001b[43mp\u001b[49m\u001b[38;5;241;43m.\u001b[39;49m\u001b[43mx\u001b[49m \u001b[38;5;241m=\u001b[39m \u001b[38;5;241m2\u001b[39m  \u001b[38;5;66;03m# FrozenInstanceError!\u001b[39;00m\n",
      "File \u001b[1;32m<string>:4\u001b[0m, in \u001b[0;36m__setattr__\u001b[1;34m(self, name, value)\u001b[0m\n",
      "\u001b[1;31mFrozenInstanceError\u001b[0m: cannot assign to field 'x'"
     ]
    }
   ],
   "source": [
    "# We use frozen=True to make the class immutable\n",
    "@dataclass(frozen=True)\n",
    "class Point:\n",
    "    x: int\n",
    "    y: int\n",
    "\n",
    "    def __hash__(self):\n",
    "        return self.x << 16 | self.y\n",
    "\n",
    "\n",
    "p = Point(x=1, y=0)\n",
    "d = {p: \"found\"}\n",
    "\n",
    "print(p == Point(x=1, y=0))  # True\n",
    "print(d[Point(x=1, y=0)])  # found\n",
    "\n",
    "p = Point(x=2, y=0)  # This works!\n",
    "print(p == Point(x=1, y=0))  # Now this is False\n",
    "\n",
    "p.x = 2  # FrozenInstanceError!"
   ]
  },
  {
   "cell_type": "markdown",
   "id": "fad5e2d4-a144-46bc-8e04-a8758d9e1373",
   "metadata": {},
   "source": [
    "We can also define immutable class using the ```@property``` decorator:"
   ]
  },
  {
   "cell_type": "code",
   "execution_count": 10,
   "id": "d28e0b3f-6d4a-4997-b3ae-69b215c5559e",
   "metadata": {},
   "outputs": [],
   "source": [
    "class Thing:\n",
    "    def __init__(self, a):\n",
    "        self._a = a\n",
    "\n",
    "        @property\n",
    "        def a(self):\n",
    "            return self._a\n",
    "\n",
    "        @a.setter\n",
    "        def a(self, value):\n",
    "            raise AttributeError(f\"{self} is immutable\")"
   ]
  },
  {
   "cell_type": "markdown",
   "id": "c53059ea-d350-4f0a-ae91-60ffef7f6056",
   "metadata": {},
   "source": [
    "This methods are good practices, but they do not solve the core problem, plus there is nothing we can do if we use mutable types, like lists or dictionaries.\n",
    "\n",
    "So we can change the perspective and think that it is our responsability as coders to not mutate the variables that we introduce in our functions. A way to this is by using ```deepcopy()```:"
   ]
  },
  {
   "cell_type": "code",
   "execution_count": 11,
   "id": "124a073f-8f59-438d-b52a-5653d3583102",
   "metadata": {},
   "outputs": [],
   "source": [
    "from copy import deepcopy\n",
    "\n",
    "\n",
    "def f(x):\n",
    "    x = deepcopy()\n",
    "    return g(\n",
    "        x\n",
    "    )  # g is not defined here, but since the new x is a copy, g can not change the \"global\" x"
   ]
  },
  {
   "cell_type": "markdown",
   "id": "facadf8c-9333-4e49-87fc-6e1569860060",
   "metadata": {},
   "source": [
    "## 3. Working with types (Static Typing with python)\n",
    "\n",
    "If we define the following f(x) function, that returns x.lower(), it will crash if we introduce anything else than a string as a parameter:"
   ]
  },
  {
   "cell_type": "code",
   "execution_count": 12,
   "id": "9217dc48-fd8e-4a19-a842-8b997cc7b56f",
   "metadata": {},
   "outputs": [],
   "source": [
    "def f(x):\n",
    "    return x.lower()\n",
    "\n",
    "\n",
    "def main():\n",
    "    f(\"Hello\")  # This works\n",
    "    f(1)  # This cxrashes (it is not a string, it does not have .lower() method)"
   ]
  },
  {
   "cell_type": "code",
   "execution_count": 13,
   "id": "332ad4e2-3d18-410e-99ed-37a55e6def35",
   "metadata": {},
   "outputs": [
    {
     "ename": "AttributeError",
     "evalue": "'int' object has no attribute 'lower'",
     "output_type": "error",
     "traceback": [
      "\u001b[1;31m---------------------------------------------------------------------------\u001b[0m",
      "\u001b[1;31mAttributeError\u001b[0m                            Traceback (most recent call last)",
      "Cell \u001b[1;32mIn[13], line 1\u001b[0m\n\u001b[1;32m----> 1\u001b[0m \u001b[43mmain\u001b[49m\u001b[43m(\u001b[49m\u001b[43m)\u001b[49m\n",
      "Cell \u001b[1;32mIn[12], line 7\u001b[0m, in \u001b[0;36mmain\u001b[1;34m()\u001b[0m\n\u001b[0;32m      5\u001b[0m \u001b[38;5;28;01mdef\u001b[39;00m \u001b[38;5;21mmain\u001b[39m():\n\u001b[0;32m      6\u001b[0m     f(\u001b[38;5;124m\"\u001b[39m\u001b[38;5;124mHello\u001b[39m\u001b[38;5;124m\"\u001b[39m)  \u001b[38;5;66;03m# This works\u001b[39;00m\n\u001b[1;32m----> 7\u001b[0m     \u001b[43mf\u001b[49m\u001b[43m(\u001b[49m\u001b[38;5;241;43m1\u001b[39;49m\u001b[43m)\u001b[49m\n",
      "Cell \u001b[1;32mIn[12], line 2\u001b[0m, in \u001b[0;36mf\u001b[1;34m(x)\u001b[0m\n\u001b[0;32m      1\u001b[0m \u001b[38;5;28;01mdef\u001b[39;00m \u001b[38;5;21mf\u001b[39m(x):\n\u001b[1;32m----> 2\u001b[0m     \u001b[38;5;28;01mreturn\u001b[39;00m \u001b[43mx\u001b[49m\u001b[38;5;241;43m.\u001b[39;49m\u001b[43mlower\u001b[49m()\n",
      "\u001b[1;31mAttributeError\u001b[0m: 'int' object has no attribute 'lower'"
     ]
    }
   ],
   "source": [
    "main()"
   ]
  },
  {
   "cell_type": "markdown",
   "id": "6927666b-50fb-4049-a4ad-085246dd90bb",
   "metadata": {},
   "source": [
    "But we can add static types to the function definition:"
   ]
  },
  {
   "cell_type": "code",
   "execution_count": 14,
   "id": "dafddaab-97e7-4e4c-a759-ad876c334e0f",
   "metadata": {},
   "outputs": [],
   "source": [
    "def f(x: str) -> str:\n",
    "    return x.lower()"
   ]
  },
  {
   "cell_type": "markdown",
   "id": "1a2cabf2-f2e4-486c-b037-a16803018373",
   "metadata": {},
   "source": [
    "This is not enough by itself, if we do not use mypy or pyright, the types we assigned are sole indications:"
   ]
  },
  {
   "cell_type": "code",
   "execution_count": 15,
   "id": "bc920aa8-24d7-4e41-8f3b-d190ff03acef",
   "metadata": {},
   "outputs": [
    {
     "ename": "AttributeError",
     "evalue": "'int' object has no attribute 'lower'",
     "output_type": "error",
     "traceback": [
      "\u001b[1;31m---------------------------------------------------------------------------\u001b[0m",
      "\u001b[1;31mAttributeError\u001b[0m                            Traceback (most recent call last)",
      "Cell \u001b[1;32mIn[15], line 1\u001b[0m\n\u001b[1;32m----> 1\u001b[0m \u001b[43mf\u001b[49m\u001b[43m(\u001b[49m\u001b[38;5;241;43m1\u001b[39;49m\u001b[43m)\u001b[49m\n",
      "Cell \u001b[1;32mIn[14], line 2\u001b[0m, in \u001b[0;36mf\u001b[1;34m(x)\u001b[0m\n\u001b[0;32m      1\u001b[0m \u001b[38;5;28;01mdef\u001b[39;00m \u001b[38;5;21mf\u001b[39m(x: \u001b[38;5;28mstr\u001b[39m) \u001b[38;5;241m-\u001b[39m\u001b[38;5;241m>\u001b[39m \u001b[38;5;28mstr\u001b[39m:\n\u001b[1;32m----> 2\u001b[0m     \u001b[38;5;28;01mreturn\u001b[39;00m \u001b[43mx\u001b[49m\u001b[38;5;241;43m.\u001b[39;49m\u001b[43mlower\u001b[49m()\n",
      "\u001b[1;31mAttributeError\u001b[0m: 'int' object has no attribute 'lower'"
     ]
    }
   ],
   "source": [
    "f(1)"
   ]
  },
  {
   "cell_type": "markdown",
   "id": "767e9a16-9d4f-488a-9565-9cd7c7cab5be",
   "metadata": {},
   "source": [
    "Also, if we do not use type checkers, we totally can write absurd things such as:"
   ]
  },
  {
   "cell_type": "code",
   "execution_count": 16,
   "id": "5ecc4396-c728-4fa4-b2de-b568b1eb5aa2",
   "metadata": {},
   "outputs": [
    {
     "data": {
      "text/plain": [
       "'abcd'"
      ]
     },
     "execution_count": 16,
     "metadata": {},
     "output_type": "execute_result"
    }
   ],
   "source": [
    "def f(x: int) -> dict:\n",
    "    return x.lower()\n",
    "\n",
    "\n",
    "f(\"ABCD\")  # It will work!"
   ]
  }
 ],
 "metadata": {
  "kernelspec": {
   "display_name": "Python 3 (ipykernel)",
   "language": "python",
   "name": "python3"
  },
  "language_info": {
   "codemirror_mode": {
    "name": "ipython",
    "version": 3
   },
   "file_extension": ".py",
   "mimetype": "text/x-python",
   "name": "python",
   "nbconvert_exporter": "python",
   "pygments_lexer": "ipython3",
   "version": "3.10.6"
  }
 },
 "nbformat": 4,
 "nbformat_minor": 5
}
